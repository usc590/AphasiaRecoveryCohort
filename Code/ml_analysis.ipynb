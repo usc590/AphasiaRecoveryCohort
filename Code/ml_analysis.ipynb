{
 "cells": [
  {
   "cell_type": "code",
   "id": "initial_id",
   "metadata": {
    "collapsed": true,
    "ExecuteTime": {
     "end_time": "2024-10-15T01:13:37.061805Z",
     "start_time": "2024-10-15T01:13:37.049164Z"
    }
   },
   "source": [
    "import pandas as pd\n",
    "from sklearn.linear_model import LinearRegression\n",
    "from sklearn.model_selection import LeaveOneOut\n",
    "from sklearn.metrics import mean_squared_error\n",
    "\n",
    "def linear_regression_analysis(X, y):\n",
    "    model = LinearRegression()\n",
    "    # Use leaveoneout splitting\n",
    "    loo = LeaveOneOut()\n",
    "    predictions = []\n",
    "    actuals = []\n",
    "    for train_index, test_index in loo.split(X, y):\n",
    "        X_train, X_test = X.iloc[train_index], X.iloc[test_index]\n",
    "        y_train, y_test = y.iloc[train_index], y.iloc[test_index]\n",
    "        model.fit(X_train, y_train)\n",
    "        y_pred = model.predict(X_test)\n",
    "        predictions.append(y_pred[0])\n",
    "        actuals.append(y_test.values[0])\n",
    "        \n",
    "        \n",
    "features_df = pd.read_csv('../Processed Data/rest_101_participants_40_regions.csv', index_col=0)\n",
    "target_df = pd.read_csv('../Processed Data/101_participants_40_regions_target_variable', index_col=0)\n",
    "\n"
   ],
   "outputs": [
    {
     "ename": "IndentationError",
     "evalue": "expected an indented block after function definition on line 1 (3295843817.py, line 3)",
     "output_type": "error",
     "traceback": [
      "\u001B[1;36m  Cell \u001B[1;32mIn[1], line 3\u001B[1;36m\u001B[0m\n\u001B[1;33m    features_csv = pd.read_csv('../Processed Data/rest_101_participants_40_regions.csv', index_col=0)\u001B[0m\n\u001B[1;37m    ^\u001B[0m\n\u001B[1;31mIndentationError\u001B[0m\u001B[1;31m:\u001B[0m expected an indented block after function definition on line 1\n"
     ]
    }
   ],
   "execution_count": 1
  },
  {
   "metadata": {},
   "cell_type": "code",
   "outputs": [],
   "execution_count": null,
   "source": "",
   "id": "c7cd238e1620dcf"
  }
 ],
 "metadata": {
  "kernelspec": {
   "display_name": "Python 3",
   "language": "python",
   "name": "python3"
  },
  "language_info": {
   "codemirror_mode": {
    "name": "ipython",
    "version": 2
   },
   "file_extension": ".py",
   "mimetype": "text/x-python",
   "name": "python",
   "nbconvert_exporter": "python",
   "pygments_lexer": "ipython2",
   "version": "2.7.6"
  }
 },
 "nbformat": 4,
 "nbformat_minor": 5
}
